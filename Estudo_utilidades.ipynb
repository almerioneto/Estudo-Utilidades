{
  "nbformat": 4,
  "nbformat_minor": 0,
  "metadata": {
    "colab": {
      "name": "Estudo utilidades.ipynb",
      "provenance": [],
      "collapsed_sections": [],
      "authorship_tag": "ABX9TyNVP+ZwukcqHj43Lh2MkY1D",
      "include_colab_link": true
    },
    "kernelspec": {
      "name": "python3",
      "display_name": "Python 3"
    },
    "language_info": {
      "name": "python"
    }
  },
  "cells": [
    {
      "cell_type": "markdown",
      "metadata": {
        "id": "view-in-github",
        "colab_type": "text"
      },
      "source": [
        "<a href=\"https://colab.research.google.com/github/almerioneto/Estudo-Utilidades/blob/main/Estudo_utilidades.ipynb\" target=\"_parent\"><img src=\"https://colab.research.google.com/assets/colab-badge.svg\" alt=\"Open In Colab\"/></a>"
      ]
    },
    {
      "cell_type": "code",
      "execution_count": 68,
      "metadata": {
        "id": "HrfoSffduHmk"
      },
      "outputs": [],
      "source": [
        "import pandas as pd\n"
      ]
    },
    {
      "cell_type": "code",
      "source": [
        "dados = pd.read_excel('Pasta3.xlsx')\n",
        "dados1 = dados.copy()\n",
        "dados1"
      ],
      "metadata": {
        "colab": {
          "base_uri": "https://localhost:8080/",
          "height": 426
        },
        "id": "5TD4nZxLulQC",
        "outputId": "f6eeecfc-b575-4a76-9764-2ce35ce4a0ae"
      },
      "execution_count": 69,
      "outputs": [
        {
          "output_type": "execute_result",
          "data": {
            "text/plain": [
              "        Meses     Producao        Gas       Agua    Energia\n",
              "0       Abril  36019826.25  270390.85  8109880.0  486651.00\n",
              "1        Maio  42118392.75  315618.00  8688570.0  525105.00\n",
              "2       Junho  42277266.50  313759.00  8944500.0  513156.00\n",
              "3       Julho  43510844.50  322073.00  8685720.0  524736.00\n",
              "4      Agosto  44579537.00  326997.20  9268880.0  525383.00\n",
              "5    Setembro  40934215.50  302101.00  8531830.0  497751.00\n",
              "6     Outubro  30876837.25  252754.09  7625510.0  451693.20\n",
              "7    Novembro  33453266.08  288784.39  8062430.0  458979.78\n",
              "8    Dezembro  26610500.00  189156.50  6450350.0  371233.35\n",
              "9     Janeiro  34845696.00  256616.68  7998850.0  492376.64\n",
              "10  Fevereiro  30516342.00  236121.11  8209223.5  459101.70\n",
              "11      Março  26336292.25  234048.13  6991745.0  403601.10"
            ],
            "text/html": [
              "\n",
              "  <div id=\"df-47fc3291-e1aa-42f2-b0a4-6829a65f3696\">\n",
              "    <div class=\"colab-df-container\">\n",
              "      <div>\n",
              "<style scoped>\n",
              "    .dataframe tbody tr th:only-of-type {\n",
              "        vertical-align: middle;\n",
              "    }\n",
              "\n",
              "    .dataframe tbody tr th {\n",
              "        vertical-align: top;\n",
              "    }\n",
              "\n",
              "    .dataframe thead th {\n",
              "        text-align: right;\n",
              "    }\n",
              "</style>\n",
              "<table border=\"1\" class=\"dataframe\">\n",
              "  <thead>\n",
              "    <tr style=\"text-align: right;\">\n",
              "      <th></th>\n",
              "      <th>Meses</th>\n",
              "      <th>Producao</th>\n",
              "      <th>Gas</th>\n",
              "      <th>Agua</th>\n",
              "      <th>Energia</th>\n",
              "    </tr>\n",
              "  </thead>\n",
              "  <tbody>\n",
              "    <tr>\n",
              "      <th>0</th>\n",
              "      <td>Abril</td>\n",
              "      <td>36019826.25</td>\n",
              "      <td>270390.85</td>\n",
              "      <td>8109880.0</td>\n",
              "      <td>486651.00</td>\n",
              "    </tr>\n",
              "    <tr>\n",
              "      <th>1</th>\n",
              "      <td>Maio</td>\n",
              "      <td>42118392.75</td>\n",
              "      <td>315618.00</td>\n",
              "      <td>8688570.0</td>\n",
              "      <td>525105.00</td>\n",
              "    </tr>\n",
              "    <tr>\n",
              "      <th>2</th>\n",
              "      <td>Junho</td>\n",
              "      <td>42277266.50</td>\n",
              "      <td>313759.00</td>\n",
              "      <td>8944500.0</td>\n",
              "      <td>513156.00</td>\n",
              "    </tr>\n",
              "    <tr>\n",
              "      <th>3</th>\n",
              "      <td>Julho</td>\n",
              "      <td>43510844.50</td>\n",
              "      <td>322073.00</td>\n",
              "      <td>8685720.0</td>\n",
              "      <td>524736.00</td>\n",
              "    </tr>\n",
              "    <tr>\n",
              "      <th>4</th>\n",
              "      <td>Agosto</td>\n",
              "      <td>44579537.00</td>\n",
              "      <td>326997.20</td>\n",
              "      <td>9268880.0</td>\n",
              "      <td>525383.00</td>\n",
              "    </tr>\n",
              "    <tr>\n",
              "      <th>5</th>\n",
              "      <td>Setembro</td>\n",
              "      <td>40934215.50</td>\n",
              "      <td>302101.00</td>\n",
              "      <td>8531830.0</td>\n",
              "      <td>497751.00</td>\n",
              "    </tr>\n",
              "    <tr>\n",
              "      <th>6</th>\n",
              "      <td>Outubro</td>\n",
              "      <td>30876837.25</td>\n",
              "      <td>252754.09</td>\n",
              "      <td>7625510.0</td>\n",
              "      <td>451693.20</td>\n",
              "    </tr>\n",
              "    <tr>\n",
              "      <th>7</th>\n",
              "      <td>Novembro</td>\n",
              "      <td>33453266.08</td>\n",
              "      <td>288784.39</td>\n",
              "      <td>8062430.0</td>\n",
              "      <td>458979.78</td>\n",
              "    </tr>\n",
              "    <tr>\n",
              "      <th>8</th>\n",
              "      <td>Dezembro</td>\n",
              "      <td>26610500.00</td>\n",
              "      <td>189156.50</td>\n",
              "      <td>6450350.0</td>\n",
              "      <td>371233.35</td>\n",
              "    </tr>\n",
              "    <tr>\n",
              "      <th>9</th>\n",
              "      <td>Janeiro</td>\n",
              "      <td>34845696.00</td>\n",
              "      <td>256616.68</td>\n",
              "      <td>7998850.0</td>\n",
              "      <td>492376.64</td>\n",
              "    </tr>\n",
              "    <tr>\n",
              "      <th>10</th>\n",
              "      <td>Fevereiro</td>\n",
              "      <td>30516342.00</td>\n",
              "      <td>236121.11</td>\n",
              "      <td>8209223.5</td>\n",
              "      <td>459101.70</td>\n",
              "    </tr>\n",
              "    <tr>\n",
              "      <th>11</th>\n",
              "      <td>Março</td>\n",
              "      <td>26336292.25</td>\n",
              "      <td>234048.13</td>\n",
              "      <td>6991745.0</td>\n",
              "      <td>403601.10</td>\n",
              "    </tr>\n",
              "  </tbody>\n",
              "</table>\n",
              "</div>\n",
              "      <button class=\"colab-df-convert\" onclick=\"convertToInteractive('df-47fc3291-e1aa-42f2-b0a4-6829a65f3696')\"\n",
              "              title=\"Convert this dataframe to an interactive table.\"\n",
              "              style=\"display:none;\">\n",
              "        \n",
              "  <svg xmlns=\"http://www.w3.org/2000/svg\" height=\"24px\"viewBox=\"0 0 24 24\"\n",
              "       width=\"24px\">\n",
              "    <path d=\"M0 0h24v24H0V0z\" fill=\"none\"/>\n",
              "    <path d=\"M18.56 5.44l.94 2.06.94-2.06 2.06-.94-2.06-.94-.94-2.06-.94 2.06-2.06.94zm-11 1L8.5 8.5l.94-2.06 2.06-.94-2.06-.94L8.5 2.5l-.94 2.06-2.06.94zm10 10l.94 2.06.94-2.06 2.06-.94-2.06-.94-.94-2.06-.94 2.06-2.06.94z\"/><path d=\"M17.41 7.96l-1.37-1.37c-.4-.4-.92-.59-1.43-.59-.52 0-1.04.2-1.43.59L10.3 9.45l-7.72 7.72c-.78.78-.78 2.05 0 2.83L4 21.41c.39.39.9.59 1.41.59.51 0 1.02-.2 1.41-.59l7.78-7.78 2.81-2.81c.8-.78.8-2.07 0-2.86zM5.41 20L4 18.59l7.72-7.72 1.47 1.35L5.41 20z\"/>\n",
              "  </svg>\n",
              "      </button>\n",
              "      \n",
              "  <style>\n",
              "    .colab-df-container {\n",
              "      display:flex;\n",
              "      flex-wrap:wrap;\n",
              "      gap: 12px;\n",
              "    }\n",
              "\n",
              "    .colab-df-convert {\n",
              "      background-color: #E8F0FE;\n",
              "      border: none;\n",
              "      border-radius: 50%;\n",
              "      cursor: pointer;\n",
              "      display: none;\n",
              "      fill: #1967D2;\n",
              "      height: 32px;\n",
              "      padding: 0 0 0 0;\n",
              "      width: 32px;\n",
              "    }\n",
              "\n",
              "    .colab-df-convert:hover {\n",
              "      background-color: #E2EBFA;\n",
              "      box-shadow: 0px 1px 2px rgba(60, 64, 67, 0.3), 0px 1px 3px 1px rgba(60, 64, 67, 0.15);\n",
              "      fill: #174EA6;\n",
              "    }\n",
              "\n",
              "    [theme=dark] .colab-df-convert {\n",
              "      background-color: #3B4455;\n",
              "      fill: #D2E3FC;\n",
              "    }\n",
              "\n",
              "    [theme=dark] .colab-df-convert:hover {\n",
              "      background-color: #434B5C;\n",
              "      box-shadow: 0px 1px 3px 1px rgba(0, 0, 0, 0.15);\n",
              "      filter: drop-shadow(0px 1px 2px rgba(0, 0, 0, 0.3));\n",
              "      fill: #FFFFFF;\n",
              "    }\n",
              "  </style>\n",
              "\n",
              "      <script>\n",
              "        const buttonEl =\n",
              "          document.querySelector('#df-47fc3291-e1aa-42f2-b0a4-6829a65f3696 button.colab-df-convert');\n",
              "        buttonEl.style.display =\n",
              "          google.colab.kernel.accessAllowed ? 'block' : 'none';\n",
              "\n",
              "        async function convertToInteractive(key) {\n",
              "          const element = document.querySelector('#df-47fc3291-e1aa-42f2-b0a4-6829a65f3696');\n",
              "          const dataTable =\n",
              "            await google.colab.kernel.invokeFunction('convertToInteractive',\n",
              "                                                     [key], {});\n",
              "          if (!dataTable) return;\n",
              "\n",
              "          const docLinkHtml = 'Like what you see? Visit the ' +\n",
              "            '<a target=\"_blank\" href=https://colab.research.google.com/notebooks/data_table.ipynb>data table notebook</a>'\n",
              "            + ' to learn more about interactive tables.';\n",
              "          element.innerHTML = '';\n",
              "          dataTable['output_type'] = 'display_data';\n",
              "          await google.colab.output.renderOutput(dataTable, element);\n",
              "          const docLink = document.createElement('div');\n",
              "          docLink.innerHTML = docLinkHtml;\n",
              "          element.appendChild(docLink);\n",
              "        }\n",
              "      </script>\n",
              "    </div>\n",
              "  </div>\n",
              "  "
            ]
          },
          "metadata": {},
          "execution_count": 69
        }
      ]
    },
    {
      "cell_type": "code",
      "source": [
        ""
      ],
      "metadata": {
        "id": "8_DHC99uu7Jf"
      },
      "execution_count": 69,
      "outputs": []
    },
    {
      "cell_type": "code",
      "source": [
        "mean_producao = dados.Producao.mean()\n",
        "mean_gas = dados.Gas.mean()\n",
        "mean_agua = dados.Agua.mean()\n",
        "mean_energia = dados.Energia.mean()\n",
        "\n",
        "lst_mean = [mean_producao,mean_gas,mean_agua,mean_energia]\n",
        "print(lst_mean)"
      ],
      "metadata": {
        "colab": {
          "base_uri": "https://localhost:8080/"
        },
        "id": "eTF5G8I91Ox8",
        "outputId": "1d674b60-ee63-4fe9-f901-3864be11f50a"
      },
      "execution_count": 70,
      "outputs": [
        {
          "output_type": "stream",
          "name": "stdout",
          "text": [
            "[36006584.67333333, 275701.6625000001, 8130624.041666667, 475813.9808333333]\n"
          ]
        }
      ]
    },
    {
      "cell_type": "code",
      "source": [
        "df_mean = pd.DataFrame(lst_mean, columns = ['Media']).T"
      ],
      "metadata": {
        "id": "2vQ-tVq2wThD"
      },
      "execution_count": 71,
      "outputs": []
    },
    {
      "cell_type": "code",
      "source": [
        "df_mean.columns = ['Producao', 'Gas', 'Agua', 'Energia']\n"
      ],
      "metadata": {
        "id": "tkX_m0DLzkfn"
      },
      "execution_count": 72,
      "outputs": []
    },
    {
      "cell_type": "code",
      "source": [
        "tabela1 = dados.append(df_mean)\n",
        "tabela1"
      ],
      "metadata": {
        "colab": {
          "base_uri": "https://localhost:8080/",
          "height": 457
        },
        "id": "JIq1lIp8zn_o",
        "outputId": "7b89c0e5-ec51-4b6b-b598-bd3412076c46"
      },
      "execution_count": 73,
      "outputs": [
        {
          "output_type": "execute_result",
          "data": {
            "text/plain": [
              "           Meses      Producao          Gas          Agua        Energia\n",
              "0          Abril  3.601983e+07  270390.8500  8.109880e+06  486651.000000\n",
              "1           Maio  4.211839e+07  315618.0000  8.688570e+06  525105.000000\n",
              "2          Junho  4.227727e+07  313759.0000  8.944500e+06  513156.000000\n",
              "3          Julho  4.351084e+07  322073.0000  8.685720e+06  524736.000000\n",
              "4         Agosto  4.457954e+07  326997.2000  9.268880e+06  525383.000000\n",
              "5       Setembro  4.093422e+07  302101.0000  8.531830e+06  497751.000000\n",
              "6        Outubro  3.087684e+07  252754.0900  7.625510e+06  451693.200000\n",
              "7       Novembro  3.345327e+07  288784.3900  8.062430e+06  458979.780000\n",
              "8       Dezembro  2.661050e+07  189156.5000  6.450350e+06  371233.350000\n",
              "9        Janeiro  3.484570e+07  256616.6800  7.998850e+06  492376.640000\n",
              "10     Fevereiro  3.051634e+07  236121.1100  8.209224e+06  459101.700000\n",
              "11         Março  2.633629e+07  234048.1300  6.991745e+06  403601.100000\n",
              "Media        NaN  3.600658e+07  275701.6625  8.130624e+06  475813.980833"
            ],
            "text/html": [
              "\n",
              "  <div id=\"df-78a00d69-ab5c-4d99-abf5-18a413b1f2ac\">\n",
              "    <div class=\"colab-df-container\">\n",
              "      <div>\n",
              "<style scoped>\n",
              "    .dataframe tbody tr th:only-of-type {\n",
              "        vertical-align: middle;\n",
              "    }\n",
              "\n",
              "    .dataframe tbody tr th {\n",
              "        vertical-align: top;\n",
              "    }\n",
              "\n",
              "    .dataframe thead th {\n",
              "        text-align: right;\n",
              "    }\n",
              "</style>\n",
              "<table border=\"1\" class=\"dataframe\">\n",
              "  <thead>\n",
              "    <tr style=\"text-align: right;\">\n",
              "      <th></th>\n",
              "      <th>Meses</th>\n",
              "      <th>Producao</th>\n",
              "      <th>Gas</th>\n",
              "      <th>Agua</th>\n",
              "      <th>Energia</th>\n",
              "    </tr>\n",
              "  </thead>\n",
              "  <tbody>\n",
              "    <tr>\n",
              "      <th>0</th>\n",
              "      <td>Abril</td>\n",
              "      <td>3.601983e+07</td>\n",
              "      <td>270390.8500</td>\n",
              "      <td>8.109880e+06</td>\n",
              "      <td>486651.000000</td>\n",
              "    </tr>\n",
              "    <tr>\n",
              "      <th>1</th>\n",
              "      <td>Maio</td>\n",
              "      <td>4.211839e+07</td>\n",
              "      <td>315618.0000</td>\n",
              "      <td>8.688570e+06</td>\n",
              "      <td>525105.000000</td>\n",
              "    </tr>\n",
              "    <tr>\n",
              "      <th>2</th>\n",
              "      <td>Junho</td>\n",
              "      <td>4.227727e+07</td>\n",
              "      <td>313759.0000</td>\n",
              "      <td>8.944500e+06</td>\n",
              "      <td>513156.000000</td>\n",
              "    </tr>\n",
              "    <tr>\n",
              "      <th>3</th>\n",
              "      <td>Julho</td>\n",
              "      <td>4.351084e+07</td>\n",
              "      <td>322073.0000</td>\n",
              "      <td>8.685720e+06</td>\n",
              "      <td>524736.000000</td>\n",
              "    </tr>\n",
              "    <tr>\n",
              "      <th>4</th>\n",
              "      <td>Agosto</td>\n",
              "      <td>4.457954e+07</td>\n",
              "      <td>326997.2000</td>\n",
              "      <td>9.268880e+06</td>\n",
              "      <td>525383.000000</td>\n",
              "    </tr>\n",
              "    <tr>\n",
              "      <th>5</th>\n",
              "      <td>Setembro</td>\n",
              "      <td>4.093422e+07</td>\n",
              "      <td>302101.0000</td>\n",
              "      <td>8.531830e+06</td>\n",
              "      <td>497751.000000</td>\n",
              "    </tr>\n",
              "    <tr>\n",
              "      <th>6</th>\n",
              "      <td>Outubro</td>\n",
              "      <td>3.087684e+07</td>\n",
              "      <td>252754.0900</td>\n",
              "      <td>7.625510e+06</td>\n",
              "      <td>451693.200000</td>\n",
              "    </tr>\n",
              "    <tr>\n",
              "      <th>7</th>\n",
              "      <td>Novembro</td>\n",
              "      <td>3.345327e+07</td>\n",
              "      <td>288784.3900</td>\n",
              "      <td>8.062430e+06</td>\n",
              "      <td>458979.780000</td>\n",
              "    </tr>\n",
              "    <tr>\n",
              "      <th>8</th>\n",
              "      <td>Dezembro</td>\n",
              "      <td>2.661050e+07</td>\n",
              "      <td>189156.5000</td>\n",
              "      <td>6.450350e+06</td>\n",
              "      <td>371233.350000</td>\n",
              "    </tr>\n",
              "    <tr>\n",
              "      <th>9</th>\n",
              "      <td>Janeiro</td>\n",
              "      <td>3.484570e+07</td>\n",
              "      <td>256616.6800</td>\n",
              "      <td>7.998850e+06</td>\n",
              "      <td>492376.640000</td>\n",
              "    </tr>\n",
              "    <tr>\n",
              "      <th>10</th>\n",
              "      <td>Fevereiro</td>\n",
              "      <td>3.051634e+07</td>\n",
              "      <td>236121.1100</td>\n",
              "      <td>8.209224e+06</td>\n",
              "      <td>459101.700000</td>\n",
              "    </tr>\n",
              "    <tr>\n",
              "      <th>11</th>\n",
              "      <td>Março</td>\n",
              "      <td>2.633629e+07</td>\n",
              "      <td>234048.1300</td>\n",
              "      <td>6.991745e+06</td>\n",
              "      <td>403601.100000</td>\n",
              "    </tr>\n",
              "    <tr>\n",
              "      <th>Media</th>\n",
              "      <td>NaN</td>\n",
              "      <td>3.600658e+07</td>\n",
              "      <td>275701.6625</td>\n",
              "      <td>8.130624e+06</td>\n",
              "      <td>475813.980833</td>\n",
              "    </tr>\n",
              "  </tbody>\n",
              "</table>\n",
              "</div>\n",
              "      <button class=\"colab-df-convert\" onclick=\"convertToInteractive('df-78a00d69-ab5c-4d99-abf5-18a413b1f2ac')\"\n",
              "              title=\"Convert this dataframe to an interactive table.\"\n",
              "              style=\"display:none;\">\n",
              "        \n",
              "  <svg xmlns=\"http://www.w3.org/2000/svg\" height=\"24px\"viewBox=\"0 0 24 24\"\n",
              "       width=\"24px\">\n",
              "    <path d=\"M0 0h24v24H0V0z\" fill=\"none\"/>\n",
              "    <path d=\"M18.56 5.44l.94 2.06.94-2.06 2.06-.94-2.06-.94-.94-2.06-.94 2.06-2.06.94zm-11 1L8.5 8.5l.94-2.06 2.06-.94-2.06-.94L8.5 2.5l-.94 2.06-2.06.94zm10 10l.94 2.06.94-2.06 2.06-.94-2.06-.94-.94-2.06-.94 2.06-2.06.94z\"/><path d=\"M17.41 7.96l-1.37-1.37c-.4-.4-.92-.59-1.43-.59-.52 0-1.04.2-1.43.59L10.3 9.45l-7.72 7.72c-.78.78-.78 2.05 0 2.83L4 21.41c.39.39.9.59 1.41.59.51 0 1.02-.2 1.41-.59l7.78-7.78 2.81-2.81c.8-.78.8-2.07 0-2.86zM5.41 20L4 18.59l7.72-7.72 1.47 1.35L5.41 20z\"/>\n",
              "  </svg>\n",
              "      </button>\n",
              "      \n",
              "  <style>\n",
              "    .colab-df-container {\n",
              "      display:flex;\n",
              "      flex-wrap:wrap;\n",
              "      gap: 12px;\n",
              "    }\n",
              "\n",
              "    .colab-df-convert {\n",
              "      background-color: #E8F0FE;\n",
              "      border: none;\n",
              "      border-radius: 50%;\n",
              "      cursor: pointer;\n",
              "      display: none;\n",
              "      fill: #1967D2;\n",
              "      height: 32px;\n",
              "      padding: 0 0 0 0;\n",
              "      width: 32px;\n",
              "    }\n",
              "\n",
              "    .colab-df-convert:hover {\n",
              "      background-color: #E2EBFA;\n",
              "      box-shadow: 0px 1px 2px rgba(60, 64, 67, 0.3), 0px 1px 3px 1px rgba(60, 64, 67, 0.15);\n",
              "      fill: #174EA6;\n",
              "    }\n",
              "\n",
              "    [theme=dark] .colab-df-convert {\n",
              "      background-color: #3B4455;\n",
              "      fill: #D2E3FC;\n",
              "    }\n",
              "\n",
              "    [theme=dark] .colab-df-convert:hover {\n",
              "      background-color: #434B5C;\n",
              "      box-shadow: 0px 1px 3px 1px rgba(0, 0, 0, 0.15);\n",
              "      filter: drop-shadow(0px 1px 2px rgba(0, 0, 0, 0.3));\n",
              "      fill: #FFFFFF;\n",
              "    }\n",
              "  </style>\n",
              "\n",
              "      <script>\n",
              "        const buttonEl =\n",
              "          document.querySelector('#df-78a00d69-ab5c-4d99-abf5-18a413b1f2ac button.colab-df-convert');\n",
              "        buttonEl.style.display =\n",
              "          google.colab.kernel.accessAllowed ? 'block' : 'none';\n",
              "\n",
              "        async function convertToInteractive(key) {\n",
              "          const element = document.querySelector('#df-78a00d69-ab5c-4d99-abf5-18a413b1f2ac');\n",
              "          const dataTable =\n",
              "            await google.colab.kernel.invokeFunction('convertToInteractive',\n",
              "                                                     [key], {});\n",
              "          if (!dataTable) return;\n",
              "\n",
              "          const docLinkHtml = 'Like what you see? Visit the ' +\n",
              "            '<a target=\"_blank\" href=https://colab.research.google.com/notebooks/data_table.ipynb>data table notebook</a>'\n",
              "            + ' to learn more about interactive tables.';\n",
              "          element.innerHTML = '';\n",
              "          dataTable['output_type'] = 'display_data';\n",
              "          await google.colab.output.renderOutput(dataTable, element);\n",
              "          const docLink = document.createElement('div');\n",
              "          docLink.innerHTML = docLinkHtml;\n",
              "          element.appendChild(docLink);\n",
              "        }\n",
              "      </script>\n",
              "    </div>\n",
              "  </div>\n",
              "  "
            ]
          },
          "metadata": {},
          "execution_count": 73
        }
      ]
    },
    {
      "cell_type": "code",
      "source": [
        "median_producao = dados1.Producao.median()\n",
        "median_gas = dados1.Gas.median()\n",
        "median_agua = dados1.Agua.median()\n",
        "median_energia = dados1.Energia.median()\n",
        "\n",
        "lst_median = [mean_producao,mean_gas,mean_agua,mean_energia]\n",
        "print(lst_median)\n"
      ],
      "metadata": {
        "colab": {
          "base_uri": "https://localhost:8080/"
        },
        "id": "ynJU5N-_04EZ",
        "outputId": "66d51ad8-bf72-4c6b-bd14-9c89b14893c4"
      },
      "execution_count": 74,
      "outputs": [
        {
          "output_type": "stream",
          "name": "stdout",
          "text": [
            "[36006584.67333333, 275701.6625000001, 8130624.041666667, 475813.9808333333]\n"
          ]
        }
      ]
    },
    {
      "cell_type": "code",
      "source": [
        "df_median = pd.DataFrame(lst_median, columns = ['Mediana']).T\n",
        "df_median.columns = ['Producao', 'Gas', 'Agua', 'Energia']"
      ],
      "metadata": {
        "id": "69BTRHwyrOS9"
      },
      "execution_count": 75,
      "outputs": []
    },
    {
      "cell_type": "code",
      "source": [
        "tabela2 = tabela1.append(df_median)"
      ],
      "metadata": {
        "id": "Ygi6DCDPrnEc"
      },
      "execution_count": 76,
      "outputs": []
    },
    {
      "cell_type": "code",
      "source": [
        "std_producao = dados1.Producao.std()\n",
        "std_gas = dados1.Gas.std()\n",
        "std_agua = dados1.Agua.std()\n",
        "std_energia = dados1.Energia.std()\n",
        "\n",
        "lst_std = [std_producao,std_gas,std_agua,std_energia]\n",
        "df_std = pd.DataFrame(lst_std, columns = ['Desvio']).T\n",
        "df_std.columns = ['Producao', 'Gas', 'Agua', 'Energia']"
      ],
      "metadata": {
        "id": "Ad_BV-fzrwme"
      },
      "execution_count": 77,
      "outputs": []
    },
    {
      "cell_type": "code",
      "source": [
        "tabela3 = tabela2.append(df_std)\n",
        "tabela3"
      ],
      "metadata": {
        "colab": {
          "base_uri": "https://localhost:8080/",
          "height": 520
        },
        "id": "meO2ZA2nsrv1",
        "outputId": "449669b3-c2ed-4cfd-a85d-9912312d0be2"
      },
      "execution_count": 78,
      "outputs": [
        {
          "output_type": "execute_result",
          "data": {
            "text/plain": [
              "             Meses      Producao            Gas          Agua        Energia\n",
              "0            Abril  3.601983e+07  270390.850000  8.109880e+06  486651.000000\n",
              "1             Maio  4.211839e+07  315618.000000  8.688570e+06  525105.000000\n",
              "2            Junho  4.227727e+07  313759.000000  8.944500e+06  513156.000000\n",
              "3            Julho  4.351084e+07  322073.000000  8.685720e+06  524736.000000\n",
              "4           Agosto  4.457954e+07  326997.200000  9.268880e+06  525383.000000\n",
              "5         Setembro  4.093422e+07  302101.000000  8.531830e+06  497751.000000\n",
              "6          Outubro  3.087684e+07  252754.090000  7.625510e+06  451693.200000\n",
              "7         Novembro  3.345327e+07  288784.390000  8.062430e+06  458979.780000\n",
              "8         Dezembro  2.661050e+07  189156.500000  6.450350e+06  371233.350000\n",
              "9          Janeiro  3.484570e+07  256616.680000  7.998850e+06  492376.640000\n",
              "10       Fevereiro  3.051634e+07  236121.110000  8.209224e+06  459101.700000\n",
              "11           Março  2.633629e+07  234048.130000  6.991745e+06  403601.100000\n",
              "Media          NaN  3.600658e+07  275701.662500  8.130624e+06  475813.980833\n",
              "Mediana        NaN  3.600658e+07  275701.662500  8.130624e+06  475813.980833\n",
              "Desvio         NaN  6.584361e+06   43066.571358  8.058057e+05   49399.842914"
            ],
            "text/html": [
              "\n",
              "  <div id=\"df-22b8fdc5-d48f-4c92-8806-6c238d8aec58\">\n",
              "    <div class=\"colab-df-container\">\n",
              "      <div>\n",
              "<style scoped>\n",
              "    .dataframe tbody tr th:only-of-type {\n",
              "        vertical-align: middle;\n",
              "    }\n",
              "\n",
              "    .dataframe tbody tr th {\n",
              "        vertical-align: top;\n",
              "    }\n",
              "\n",
              "    .dataframe thead th {\n",
              "        text-align: right;\n",
              "    }\n",
              "</style>\n",
              "<table border=\"1\" class=\"dataframe\">\n",
              "  <thead>\n",
              "    <tr style=\"text-align: right;\">\n",
              "      <th></th>\n",
              "      <th>Meses</th>\n",
              "      <th>Producao</th>\n",
              "      <th>Gas</th>\n",
              "      <th>Agua</th>\n",
              "      <th>Energia</th>\n",
              "    </tr>\n",
              "  </thead>\n",
              "  <tbody>\n",
              "    <tr>\n",
              "      <th>0</th>\n",
              "      <td>Abril</td>\n",
              "      <td>3.601983e+07</td>\n",
              "      <td>270390.850000</td>\n",
              "      <td>8.109880e+06</td>\n",
              "      <td>486651.000000</td>\n",
              "    </tr>\n",
              "    <tr>\n",
              "      <th>1</th>\n",
              "      <td>Maio</td>\n",
              "      <td>4.211839e+07</td>\n",
              "      <td>315618.000000</td>\n",
              "      <td>8.688570e+06</td>\n",
              "      <td>525105.000000</td>\n",
              "    </tr>\n",
              "    <tr>\n",
              "      <th>2</th>\n",
              "      <td>Junho</td>\n",
              "      <td>4.227727e+07</td>\n",
              "      <td>313759.000000</td>\n",
              "      <td>8.944500e+06</td>\n",
              "      <td>513156.000000</td>\n",
              "    </tr>\n",
              "    <tr>\n",
              "      <th>3</th>\n",
              "      <td>Julho</td>\n",
              "      <td>4.351084e+07</td>\n",
              "      <td>322073.000000</td>\n",
              "      <td>8.685720e+06</td>\n",
              "      <td>524736.000000</td>\n",
              "    </tr>\n",
              "    <tr>\n",
              "      <th>4</th>\n",
              "      <td>Agosto</td>\n",
              "      <td>4.457954e+07</td>\n",
              "      <td>326997.200000</td>\n",
              "      <td>9.268880e+06</td>\n",
              "      <td>525383.000000</td>\n",
              "    </tr>\n",
              "    <tr>\n",
              "      <th>5</th>\n",
              "      <td>Setembro</td>\n",
              "      <td>4.093422e+07</td>\n",
              "      <td>302101.000000</td>\n",
              "      <td>8.531830e+06</td>\n",
              "      <td>497751.000000</td>\n",
              "    </tr>\n",
              "    <tr>\n",
              "      <th>6</th>\n",
              "      <td>Outubro</td>\n",
              "      <td>3.087684e+07</td>\n",
              "      <td>252754.090000</td>\n",
              "      <td>7.625510e+06</td>\n",
              "      <td>451693.200000</td>\n",
              "    </tr>\n",
              "    <tr>\n",
              "      <th>7</th>\n",
              "      <td>Novembro</td>\n",
              "      <td>3.345327e+07</td>\n",
              "      <td>288784.390000</td>\n",
              "      <td>8.062430e+06</td>\n",
              "      <td>458979.780000</td>\n",
              "    </tr>\n",
              "    <tr>\n",
              "      <th>8</th>\n",
              "      <td>Dezembro</td>\n",
              "      <td>2.661050e+07</td>\n",
              "      <td>189156.500000</td>\n",
              "      <td>6.450350e+06</td>\n",
              "      <td>371233.350000</td>\n",
              "    </tr>\n",
              "    <tr>\n",
              "      <th>9</th>\n",
              "      <td>Janeiro</td>\n",
              "      <td>3.484570e+07</td>\n",
              "      <td>256616.680000</td>\n",
              "      <td>7.998850e+06</td>\n",
              "      <td>492376.640000</td>\n",
              "    </tr>\n",
              "    <tr>\n",
              "      <th>10</th>\n",
              "      <td>Fevereiro</td>\n",
              "      <td>3.051634e+07</td>\n",
              "      <td>236121.110000</td>\n",
              "      <td>8.209224e+06</td>\n",
              "      <td>459101.700000</td>\n",
              "    </tr>\n",
              "    <tr>\n",
              "      <th>11</th>\n",
              "      <td>Março</td>\n",
              "      <td>2.633629e+07</td>\n",
              "      <td>234048.130000</td>\n",
              "      <td>6.991745e+06</td>\n",
              "      <td>403601.100000</td>\n",
              "    </tr>\n",
              "    <tr>\n",
              "      <th>Media</th>\n",
              "      <td>NaN</td>\n",
              "      <td>3.600658e+07</td>\n",
              "      <td>275701.662500</td>\n",
              "      <td>8.130624e+06</td>\n",
              "      <td>475813.980833</td>\n",
              "    </tr>\n",
              "    <tr>\n",
              "      <th>Mediana</th>\n",
              "      <td>NaN</td>\n",
              "      <td>3.600658e+07</td>\n",
              "      <td>275701.662500</td>\n",
              "      <td>8.130624e+06</td>\n",
              "      <td>475813.980833</td>\n",
              "    </tr>\n",
              "    <tr>\n",
              "      <th>Desvio</th>\n",
              "      <td>NaN</td>\n",
              "      <td>6.584361e+06</td>\n",
              "      <td>43066.571358</td>\n",
              "      <td>8.058057e+05</td>\n",
              "      <td>49399.842914</td>\n",
              "    </tr>\n",
              "  </tbody>\n",
              "</table>\n",
              "</div>\n",
              "      <button class=\"colab-df-convert\" onclick=\"convertToInteractive('df-22b8fdc5-d48f-4c92-8806-6c238d8aec58')\"\n",
              "              title=\"Convert this dataframe to an interactive table.\"\n",
              "              style=\"display:none;\">\n",
              "        \n",
              "  <svg xmlns=\"http://www.w3.org/2000/svg\" height=\"24px\"viewBox=\"0 0 24 24\"\n",
              "       width=\"24px\">\n",
              "    <path d=\"M0 0h24v24H0V0z\" fill=\"none\"/>\n",
              "    <path d=\"M18.56 5.44l.94 2.06.94-2.06 2.06-.94-2.06-.94-.94-2.06-.94 2.06-2.06.94zm-11 1L8.5 8.5l.94-2.06 2.06-.94-2.06-.94L8.5 2.5l-.94 2.06-2.06.94zm10 10l.94 2.06.94-2.06 2.06-.94-2.06-.94-.94-2.06-.94 2.06-2.06.94z\"/><path d=\"M17.41 7.96l-1.37-1.37c-.4-.4-.92-.59-1.43-.59-.52 0-1.04.2-1.43.59L10.3 9.45l-7.72 7.72c-.78.78-.78 2.05 0 2.83L4 21.41c.39.39.9.59 1.41.59.51 0 1.02-.2 1.41-.59l7.78-7.78 2.81-2.81c.8-.78.8-2.07 0-2.86zM5.41 20L4 18.59l7.72-7.72 1.47 1.35L5.41 20z\"/>\n",
              "  </svg>\n",
              "      </button>\n",
              "      \n",
              "  <style>\n",
              "    .colab-df-container {\n",
              "      display:flex;\n",
              "      flex-wrap:wrap;\n",
              "      gap: 12px;\n",
              "    }\n",
              "\n",
              "    .colab-df-convert {\n",
              "      background-color: #E8F0FE;\n",
              "      border: none;\n",
              "      border-radius: 50%;\n",
              "      cursor: pointer;\n",
              "      display: none;\n",
              "      fill: #1967D2;\n",
              "      height: 32px;\n",
              "      padding: 0 0 0 0;\n",
              "      width: 32px;\n",
              "    }\n",
              "\n",
              "    .colab-df-convert:hover {\n",
              "      background-color: #E2EBFA;\n",
              "      box-shadow: 0px 1px 2px rgba(60, 64, 67, 0.3), 0px 1px 3px 1px rgba(60, 64, 67, 0.15);\n",
              "      fill: #174EA6;\n",
              "    }\n",
              "\n",
              "    [theme=dark] .colab-df-convert {\n",
              "      background-color: #3B4455;\n",
              "      fill: #D2E3FC;\n",
              "    }\n",
              "\n",
              "    [theme=dark] .colab-df-convert:hover {\n",
              "      background-color: #434B5C;\n",
              "      box-shadow: 0px 1px 3px 1px rgba(0, 0, 0, 0.15);\n",
              "      filter: drop-shadow(0px 1px 2px rgba(0, 0, 0, 0.3));\n",
              "      fill: #FFFFFF;\n",
              "    }\n",
              "  </style>\n",
              "\n",
              "      <script>\n",
              "        const buttonEl =\n",
              "          document.querySelector('#df-22b8fdc5-d48f-4c92-8806-6c238d8aec58 button.colab-df-convert');\n",
              "        buttonEl.style.display =\n",
              "          google.colab.kernel.accessAllowed ? 'block' : 'none';\n",
              "\n",
              "        async function convertToInteractive(key) {\n",
              "          const element = document.querySelector('#df-22b8fdc5-d48f-4c92-8806-6c238d8aec58');\n",
              "          const dataTable =\n",
              "            await google.colab.kernel.invokeFunction('convertToInteractive',\n",
              "                                                     [key], {});\n",
              "          if (!dataTable) return;\n",
              "\n",
              "          const docLinkHtml = 'Like what you see? Visit the ' +\n",
              "            '<a target=\"_blank\" href=https://colab.research.google.com/notebooks/data_table.ipynb>data table notebook</a>'\n",
              "            + ' to learn more about interactive tables.';\n",
              "          element.innerHTML = '';\n",
              "          dataTable['output_type'] = 'display_data';\n",
              "          await google.colab.output.renderOutput(dataTable, element);\n",
              "          const docLink = document.createElement('div');\n",
              "          docLink.innerHTML = docLinkHtml;\n",
              "          element.appendChild(docLink);\n",
              "        }\n",
              "      </script>\n",
              "    </div>\n",
              "  </div>\n",
              "  "
            ]
          },
          "metadata": {},
          "execution_count": 78
        }
      ]
    },
    {
      "cell_type": "code",
      "source": [
        "import matplotlib.pyplot as plt\n"
      ],
      "metadata": {
        "id": "WCo1P3s2sysf"
      },
      "execution_count": 79,
      "outputs": []
    },
    {
      "cell_type": "code",
      "source": [
        "plt.plot(dados.Producao)\n",
        "plt.title('Produção')\n",
        "plt.ylabel('Produção Cambial')\n",
        "plt.xlabel('Meses')\n",
        "\n"
      ],
      "metadata": {
        "colab": {
          "base_uri": "https://localhost:8080/",
          "height": 312
        },
        "id": "kG9tvVKIt8nQ",
        "outputId": "c52d9899-143d-4355-eb31-92b30741e912"
      },
      "execution_count": 86,
      "outputs": [
        {
          "output_type": "execute_result",
          "data": {
            "text/plain": [
              "Text(0.5, 0, 'Meses')"
            ]
          },
          "metadata": {},
          "execution_count": 86
        },
        {
          "output_type": "display_data",
          "data": {
            "text/plain": [
              "<Figure size 432x288 with 1 Axes>"
            ],
            "image/png": "[encoded data removed]"
          },
          "metadata": {
            "needs_background": "light"
          }
        }
      ]
    },
    {
      "cell_type": "code",
      "source": [
        "plt.plot(dados.Gas)\n",
        "plt.title('Gas')\n",
        "plt.ylabel('Gas m³')\n",
        "plt.xlabel('Meses')"
      ],
      "metadata": {
        "colab": {
          "base_uri": "https://localhost:8080/",
          "height": 312
        },
        "id": "IuAdfIQuuFOf",
        "outputId": "c150e3d7-5697-4eb4-9394-7e7f613e2800"
      },
      "execution_count": 87,
      "outputs": [
        {
          "output_type": "execute_result",
          "data": {
            "text/plain": [
              "Text(0.5, 0, 'Meses')"
            ]
          },
          "metadata": {},
          "execution_count": 87
        },
        {
          "output_type": "display_data",
          "data": {
            "text/plain": [
              "<Figure size 432x288 with 1 Axes>"
            ],
            "image/png": "[encoded data removed]"
          },
          "metadata": {
            "needs_background": "light"
          }
        }
      ]
    },
    {
      "cell_type": "code",
      "source": [
        "plt.plot(dados.Agua)\n",
        "plt.title('Agua')\n",
        "plt.ylabel('Agua Litros')\n",
        "plt.xlabel('Meses')"
      ],
      "metadata": {
        "colab": {
          "base_uri": "https://localhost:8080/",
          "height": 312
        },
        "id": "n3lUcKHpvGf_",
        "outputId": "7e51e1c3-ccc3-4b0d-a049-0c45ebe1cbbf"
      },
      "execution_count": 88,
      "outputs": [
        {
          "output_type": "execute_result",
          "data": {
            "text/plain": [
              "Text(0.5, 0, 'Meses')"
            ]
          },
          "metadata": {},
          "execution_count": 88
        },
        {
          "output_type": "display_data",
          "data": {
            "text/plain": [
              "<Figure size 432x288 with 1 Axes>"
            ],
            "image/png": "[encoded data removed]"
          },
          "metadata": {
            "needs_background": "light"
          }
        }
      ]
    },
    {
      "cell_type": "code",
      "source": [
        "plt.plot(dados.Energia)\n",
        "plt.title('Energia')\n",
        "plt.ylabel('Energia kwh')\n",
        "plt.xlabel('Meses')"
      ],
      "metadata": {
        "colab": {
          "base_uri": "https://localhost:8080/",
          "height": 312
        },
        "id": "FPccICi9vNix",
        "outputId": "982ebe2c-8a93-4674-b6b7-5eba386b7bc8"
      },
      "execution_count": 89,
      "outputs": [
        {
          "output_type": "execute_result",
          "data": {
            "text/plain": [
              "Text(0.5, 0, 'Meses')"
            ]
          },
          "metadata": {},
          "execution_count": 89
        },
        {
          "output_type": "display_data",
          "data": {
            "text/plain": [
              "<Figure size 432x288 with 1 Axes>"
            ],
            "image/png": "[encoded data removed]"
          },
          "metadata": {
            "needs_background": "light"
          }
        }
      ]
    }
  ]
}